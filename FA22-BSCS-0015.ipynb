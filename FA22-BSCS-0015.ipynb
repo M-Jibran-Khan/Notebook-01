{
 "cells": [
  {
   "cell_type": "markdown",
   "id": "dbfbda1e-84c9-4866-a7d9-72b5322a8288",
   "metadata": {},
   "source": [
    "# DATA SCIENCE TOOLS"
   ]
  },
  {
   "cell_type": "markdown",
   "id": "2d0db5fd-acec-44f3-9594-0b496a144a58",
   "metadata": {},
   "source": [
    "## INTRODUCTION"
   ]
  },
  {
   "cell_type": "markdown",
   "id": "7a9b6987-ec74-42ec-a96d-7255511bb3f8",
   "metadata": {},
   "source": [
    "Data science is the process of collecting knowledge and insights from data by applying scientific procedures, systems, algorithms, and methods. This notebook outlines key tools and basic operations used in Data Science."
   ]
  },
  {
   "cell_type": "markdown",
   "id": "894028a3-2657-4375-9d79-e164412edb10",
   "metadata": {},
   "source": [
    "## DATA SCIENCE LANGUAGES"
   ]
  },
  {
   "cell_type": "markdown",
   "id": "a1ba0ae7-1ea4-4a35-b064-4784520382aa",
   "metadata": {},
   "source": [
    "- Python\n",
    "- R\n",
    "- SQL\n",
    "- Julia"
   ]
  },
  {
   "cell_type": "markdown",
   "id": "5f4cdb2e-e2ff-4b88-aa09-7135a54685b1",
   "metadata": {},
   "source": [
    "## DATA SCIENCE LIBRARIES"
   ]
  },
  {
   "cell_type": "markdown",
   "id": "2c2a1d74-4f2d-4020-912f-f036ab64cb77",
   "metadata": {},
   "source": [
    "- Pandas\n",
    "- NumPy\n",
    "- Matplotlib\n",
    "- Scikit-learn"
   ]
  },
  {
   "cell_type": "markdown",
   "id": "52510018-7a2a-47cf-bef7-f50b0f8d0ae0",
   "metadata": {},
   "source": [
    "## DATA SCIENCE TOOLS"
   ]
  },
  {
   "cell_type": "markdown",
   "id": "4b816808-74d6-4531-9261-cb04a608d864",
   "metadata": {},
   "source": [
    "| CATEGORIES       | TOOLS                        |\n",
    "|------------------|------------------------------|\n",
    "| Data Cleaning    | OpenRefine, Pandas           |\n",
    "| Visualization    | Matplotlib, Seaborn, Tableau |\n",
    "| Machine Learning | Scikit-learn, TensorFlow     |\n",
    "| Big Data         | Hadoop, Spark "
   ]
  },
  {
   "cell_type": "markdown",
   "id": "3f52a0a7-c1f8-4ba6-a6ba-245e2693e205",
   "metadata": {},
   "source": [
    "## ARITHMETIC EXPRESSION EXAMPLES"
   ]
  },
  {
   "cell_type": "markdown",
   "id": "86eb32bf-8290-41ba-a1d6-ad7e9b78bbba",
   "metadata": {},
   "source": [
    "- Addition: `5 + 3 = 8`\n",
    "- Subtraction: `6 + 2 = 4`\n",
    "- Multiplication: `4 * 6 = 24`\n",
    "- Division: `10 / 2 = 5`"
   ]
  },
  {
   "cell_type": "code",
   "execution_count": 35,
   "id": "91a8795c-b1f8-4e65-8e9c-3e856d149a8f",
   "metadata": {},
   "outputs": [
    {
     "name": "stdout",
     "output_type": "stream",
     "text": [
      "Sum: 7\n",
      "Multiplication: 10\n"
     ]
    }
   ],
   "source": [
    "a = 5\n",
    "b = 2\n",
    "multiplication = a * b\n",
    "addition = a + b\n",
    "print(\"Sum:\", addition)\n",
    "print(\"Multiplication:\", multiplication)"
   ]
  },
  {
   "cell_type": "code",
   "execution_count": 37,
   "id": "0cddb189-4f58-4e82-bd6d-62311b0d5fda",
   "metadata": {},
   "outputs": [
    {
     "name": "stdout",
     "output_type": "stream",
     "text": [
      "150 minutes is equal to 2.5 hours.\n"
     ]
    }
   ],
   "source": [
    "minutes = 150\n",
    "hours = minutes / 60\n",
    "print(f\"{minutes} minutes is equal to {hours} hours.\")"
   ]
  },
  {
   "cell_type": "markdown",
   "id": "4bb74ade-21b4-42ec-bdca-bc50f40cd9c9",
   "metadata": {},
   "source": [
    "## OBJECTIVES"
   ]
  },
  {
   "cell_type": "markdown",
   "id": "fe2da506-1526-409c-b9c5-58c2675256cc",
   "metadata": {},
   "source": [
    "- Understand data science tools.\n",
    "- Practice using Markdown cells.\n",
    "- Using Python to carry out simple arithmetic operations.\n",
    "- The Python code is used to convert time units."
   ]
  },
  {
   "cell_type": "markdown",
   "id": "2891ef1f-c2ac-4345-ba7b-d2909f3b0ce5",
   "metadata": {},
   "source": [
    "### AUTHOR NAME: M.Jibran Khan"
   ]
  }
 ],
 "metadata": {
  "kernelspec": {
   "display_name": "Python 3 (ipykernel)",
   "language": "python",
   "name": "python3"
  },
  "language_info": {
   "codemirror_mode": {
    "name": "ipython",
    "version": 3
   },
   "file_extension": ".py",
   "mimetype": "text/x-python",
   "name": "python",
   "nbconvert_exporter": "python",
   "pygments_lexer": "ipython3",
   "version": "3.11.7"
  }
 },
 "nbformat": 4,
 "nbformat_minor": 5
}
